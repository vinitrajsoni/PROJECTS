{
 "cells": [
  {
   "cell_type": "markdown",
   "id": "5f5e8b1c-67f1-4dfb-90e3-17eb3070b5ec",
   "metadata": {},
   "source": [
    "# Autocomplete and Autocorrect Data Analytics "
   ]
  },
  {
   "cell_type": "markdown",
   "id": "8c7ab1e8-3e53-47c3-b518-588451d4049f",
   "metadata": {},
   "source": [
    "## Dataset Collection"
   ]
  },
  {
   "cell_type": "code",
   "execution_count": 1,
   "id": "a7c0e84a-c240-474c-9e3a-6d9e7273f859",
   "metadata": {},
   "outputs": [
    {
     "name": "stdout",
     "output_type": "stream",
     "text": [
      "<class 'pandas.core.frame.DataFrame'>\n",
      "RangeIndex: 284807 entries, 0 to 284806\n",
      "Data columns (total 31 columns):\n",
      " #   Column  Non-Null Count   Dtype  \n",
      "---  ------  --------------   -----  \n",
      " 0   Time    284807 non-null  float64\n",
      " 1   V1      284807 non-null  float64\n",
      " 2   V2      284807 non-null  float64\n",
      " 3   V3      284807 non-null  float64\n",
      " 4   V4      284807 non-null  float64\n",
      " 5   V5      284807 non-null  float64\n",
      " 6   V6      284807 non-null  float64\n",
      " 7   V7      284807 non-null  float64\n",
      " 8   V8      284807 non-null  float64\n",
      " 9   V9      284807 non-null  float64\n",
      " 10  V10     284807 non-null  float64\n",
      " 11  V11     284807 non-null  float64\n",
      " 12  V12     284807 non-null  float64\n",
      " 13  V13     284807 non-null  float64\n",
      " 14  V14     284807 non-null  float64\n",
      " 15  V15     284807 non-null  float64\n",
      " 16  V16     284807 non-null  float64\n",
      " 17  V17     284807 non-null  float64\n",
      " 18  V18     284807 non-null  float64\n",
      " 19  V19     284807 non-null  float64\n",
      " 20  V20     284807 non-null  float64\n",
      " 21  V21     284807 non-null  float64\n",
      " 22  V22     284807 non-null  float64\n",
      " 23  V23     284807 non-null  float64\n",
      " 24  V24     284807 non-null  float64\n",
      " 25  V25     284807 non-null  float64\n",
      " 26  V26     284807 non-null  float64\n",
      " 27  V27     284807 non-null  float64\n",
      " 28  V28     284807 non-null  float64\n",
      " 29  Amount  284807 non-null  float64\n",
      " 30  Class   284807 non-null  int64  \n",
      "dtypes: float64(30), int64(1)\n",
      "memory usage: 67.4 MB\n",
      "None\n"
     ]
    },
    {
     "data": {
      "text/html": [
       "<div>\n",
       "<style scoped>\n",
       "    .dataframe tbody tr th:only-of-type {\n",
       "        vertical-align: middle;\n",
       "    }\n",
       "\n",
       "    .dataframe tbody tr th {\n",
       "        vertical-align: top;\n",
       "    }\n",
       "\n",
       "    .dataframe thead th {\n",
       "        text-align: right;\n",
       "    }\n",
       "</style>\n",
       "<table border=\"1\" class=\"dataframe\">\n",
       "  <thead>\n",
       "    <tr style=\"text-align: right;\">\n",
       "      <th></th>\n",
       "      <th>Time</th>\n",
       "      <th>V1</th>\n",
       "      <th>V2</th>\n",
       "      <th>V3</th>\n",
       "      <th>V4</th>\n",
       "      <th>V5</th>\n",
       "      <th>V6</th>\n",
       "      <th>V7</th>\n",
       "      <th>V8</th>\n",
       "      <th>V9</th>\n",
       "      <th>...</th>\n",
       "      <th>V21</th>\n",
       "      <th>V22</th>\n",
       "      <th>V23</th>\n",
       "      <th>V24</th>\n",
       "      <th>V25</th>\n",
       "      <th>V26</th>\n",
       "      <th>V27</th>\n",
       "      <th>V28</th>\n",
       "      <th>Amount</th>\n",
       "      <th>Class</th>\n",
       "    </tr>\n",
       "  </thead>\n",
       "  <tbody>\n",
       "    <tr>\n",
       "      <th>0</th>\n",
       "      <td>0.0</td>\n",
       "      <td>-1.359807</td>\n",
       "      <td>-0.072781</td>\n",
       "      <td>2.536347</td>\n",
       "      <td>1.378155</td>\n",
       "      <td>-0.338321</td>\n",
       "      <td>0.462388</td>\n",
       "      <td>0.239599</td>\n",
       "      <td>0.098698</td>\n",
       "      <td>0.363787</td>\n",
       "      <td>...</td>\n",
       "      <td>-0.018307</td>\n",
       "      <td>0.277838</td>\n",
       "      <td>-0.110474</td>\n",
       "      <td>0.066928</td>\n",
       "      <td>0.128539</td>\n",
       "      <td>-0.189115</td>\n",
       "      <td>0.133558</td>\n",
       "      <td>-0.021053</td>\n",
       "      <td>149.62</td>\n",
       "      <td>0</td>\n",
       "    </tr>\n",
       "    <tr>\n",
       "      <th>1</th>\n",
       "      <td>0.0</td>\n",
       "      <td>1.191857</td>\n",
       "      <td>0.266151</td>\n",
       "      <td>0.166480</td>\n",
       "      <td>0.448154</td>\n",
       "      <td>0.060018</td>\n",
       "      <td>-0.082361</td>\n",
       "      <td>-0.078803</td>\n",
       "      <td>0.085102</td>\n",
       "      <td>-0.255425</td>\n",
       "      <td>...</td>\n",
       "      <td>-0.225775</td>\n",
       "      <td>-0.638672</td>\n",
       "      <td>0.101288</td>\n",
       "      <td>-0.339846</td>\n",
       "      <td>0.167170</td>\n",
       "      <td>0.125895</td>\n",
       "      <td>-0.008983</td>\n",
       "      <td>0.014724</td>\n",
       "      <td>2.69</td>\n",
       "      <td>0</td>\n",
       "    </tr>\n",
       "    <tr>\n",
       "      <th>2</th>\n",
       "      <td>1.0</td>\n",
       "      <td>-1.358354</td>\n",
       "      <td>-1.340163</td>\n",
       "      <td>1.773209</td>\n",
       "      <td>0.379780</td>\n",
       "      <td>-0.503198</td>\n",
       "      <td>1.800499</td>\n",
       "      <td>0.791461</td>\n",
       "      <td>0.247676</td>\n",
       "      <td>-1.514654</td>\n",
       "      <td>...</td>\n",
       "      <td>0.247998</td>\n",
       "      <td>0.771679</td>\n",
       "      <td>0.909412</td>\n",
       "      <td>-0.689281</td>\n",
       "      <td>-0.327642</td>\n",
       "      <td>-0.139097</td>\n",
       "      <td>-0.055353</td>\n",
       "      <td>-0.059752</td>\n",
       "      <td>378.66</td>\n",
       "      <td>0</td>\n",
       "    </tr>\n",
       "    <tr>\n",
       "      <th>3</th>\n",
       "      <td>1.0</td>\n",
       "      <td>-0.966272</td>\n",
       "      <td>-0.185226</td>\n",
       "      <td>1.792993</td>\n",
       "      <td>-0.863291</td>\n",
       "      <td>-0.010309</td>\n",
       "      <td>1.247203</td>\n",
       "      <td>0.237609</td>\n",
       "      <td>0.377436</td>\n",
       "      <td>-1.387024</td>\n",
       "      <td>...</td>\n",
       "      <td>-0.108300</td>\n",
       "      <td>0.005274</td>\n",
       "      <td>-0.190321</td>\n",
       "      <td>-1.175575</td>\n",
       "      <td>0.647376</td>\n",
       "      <td>-0.221929</td>\n",
       "      <td>0.062723</td>\n",
       "      <td>0.061458</td>\n",
       "      <td>123.50</td>\n",
       "      <td>0</td>\n",
       "    </tr>\n",
       "    <tr>\n",
       "      <th>4</th>\n",
       "      <td>2.0</td>\n",
       "      <td>-1.158233</td>\n",
       "      <td>0.877737</td>\n",
       "      <td>1.548718</td>\n",
       "      <td>0.403034</td>\n",
       "      <td>-0.407193</td>\n",
       "      <td>0.095921</td>\n",
       "      <td>0.592941</td>\n",
       "      <td>-0.270533</td>\n",
       "      <td>0.817739</td>\n",
       "      <td>...</td>\n",
       "      <td>-0.009431</td>\n",
       "      <td>0.798278</td>\n",
       "      <td>-0.137458</td>\n",
       "      <td>0.141267</td>\n",
       "      <td>-0.206010</td>\n",
       "      <td>0.502292</td>\n",
       "      <td>0.219422</td>\n",
       "      <td>0.215153</td>\n",
       "      <td>69.99</td>\n",
       "      <td>0</td>\n",
       "    </tr>\n",
       "  </tbody>\n",
       "</table>\n",
       "<p>5 rows × 31 columns</p>\n",
       "</div>"
      ],
      "text/plain": [
       "   Time        V1        V2        V3        V4        V5        V6        V7  \\\n",
       "0   0.0 -1.359807 -0.072781  2.536347  1.378155 -0.338321  0.462388  0.239599   \n",
       "1   0.0  1.191857  0.266151  0.166480  0.448154  0.060018 -0.082361 -0.078803   \n",
       "2   1.0 -1.358354 -1.340163  1.773209  0.379780 -0.503198  1.800499  0.791461   \n",
       "3   1.0 -0.966272 -0.185226  1.792993 -0.863291 -0.010309  1.247203  0.237609   \n",
       "4   2.0 -1.158233  0.877737  1.548718  0.403034 -0.407193  0.095921  0.592941   \n",
       "\n",
       "         V8        V9  ...       V21       V22       V23       V24       V25  \\\n",
       "0  0.098698  0.363787  ... -0.018307  0.277838 -0.110474  0.066928  0.128539   \n",
       "1  0.085102 -0.255425  ... -0.225775 -0.638672  0.101288 -0.339846  0.167170   \n",
       "2  0.247676 -1.514654  ...  0.247998  0.771679  0.909412 -0.689281 -0.327642   \n",
       "3  0.377436 -1.387024  ... -0.108300  0.005274 -0.190321 -1.175575  0.647376   \n",
       "4 -0.270533  0.817739  ... -0.009431  0.798278 -0.137458  0.141267 -0.206010   \n",
       "\n",
       "        V26       V27       V28  Amount  Class  \n",
       "0 -0.189115  0.133558 -0.021053  149.62      0  \n",
       "1  0.125895 -0.008983  0.014724    2.69      0  \n",
       "2 -0.139097 -0.055353 -0.059752  378.66      0  \n",
       "3 -0.221929  0.062723  0.061458  123.50      0  \n",
       "4  0.502292  0.219422  0.215153   69.99      0  \n",
       "\n",
       "[5 rows x 31 columns]"
      ]
     },
     "execution_count": 1,
     "metadata": {},
     "output_type": "execute_result"
    }
   ],
   "source": [
    "# Import necessary libraries\n",
    "import pandas as pd\n",
    "\n",
    "# Load the dataset\n",
    "df = pd.read_csv('creditcard.csv')\n",
    "\n",
    "# Display basic information about the dataset\n",
    "print(df.info())\n",
    "\n",
    "# Display the first few rows of the dataset\n",
    "df.head()"
   ]
  },
  {
   "cell_type": "markdown",
   "id": "77b5238b-ac56-4db0-ad99-a4eded9f46a8",
   "metadata": {},
   "source": [
    "## NLP Preprocessing"
   ]
  },
  {
   "cell_type": "code",
   "execution_count": 2,
   "id": "6bf5ed34-a8d1-4607-a937-07871b3f47ca",
   "metadata": {},
   "outputs": [
    {
     "name": "stdout",
     "output_type": "stream",
     "text": [
      "Vectorization complete. Shape of train vectors: (227845, 221419)\n"
     ]
    }
   ],
   "source": [
    "# Import necessary NLP and preprocessing libraries\n",
    "from sklearn.model_selection import train_test_split\n",
    "from sklearn.feature_extraction.text import CountVectorizer, TfidfVectorizer\n",
    "\n",
    "# Assume we treat the 'V1' column as text data for preprocessing\n",
    "# You can modify this to use different columns for text data\n",
    "\n",
    "# Basic preprocessing: converting to string and handling missing values\n",
    "df['text'] = df['V1'].astype(str).fillna('')\n",
    "\n",
    "# Split data into train and test sets\n",
    "train_data, test_data = train_test_split(df['text'], test_size=0.2, random_state=42)\n",
    "\n",
    "# Vectorizing the text data using TF-IDF\n",
    "vectorizer = TfidfVectorizer()\n",
    "train_vectors = vectorizer.fit_transform(train_data)\n",
    "test_vectors = vectorizer.transform(test_data)\n",
    "\n",
    "print(\"Vectorization complete. Shape of train vectors:\", train_vectors.shape)"
   ]
  },
  {
   "cell_type": "markdown",
   "id": "eff25fc8-e7a4-422e-b6ee-7305bdf96eec",
   "metadata": {},
   "source": [
    "## Autocomplete"
   ]
  },
  {
   "cell_type": "code",
   "execution_count": 3,
   "id": "068496d9-05df-41e3-85df-07ce58c1dc7a",
   "metadata": {},
   "outputs": [
    {
     "name": "stdout",
     "output_type": "stream",
     "text": [
      "Autocomplete suggestions: ['-12.803688754721', '-12.8336314219519', '-12.693991749211', '-12.7758659424336', '-12.803688754721']\n"
     ]
    }
   ],
   "source": [
    "# Implement a simple autocomplete using n-grams\n",
    "\n",
    "def get_autocomplete_suggestions(prefix, vectorizer, top_n=5):\n",
    "    \"\"\"Return the top N autocomplete suggestions based on the prefix.\"\"\"\n",
    "    # Convert the prefix into a sparse vector using the same vectorizer\n",
    "    prefix_vector = vectorizer.transform([prefix])\n",
    "    \n",
    "    # Calculate similarity with all vectors in the dataset\n",
    "    similarities = (train_vectors * prefix_vector.T).toarray()\n",
    "    \n",
    "    # Get the top N most similar suggestions\n",
    "    top_indices = similarities.ravel().argsort()[-top_n:][::-1]\n",
    "    \n",
    "    return train_data.iloc[top_indices].tolist()\n",
    "\n",
    "# Example usage\n",
    "prefix = \"12\"  # Replace with an actual prefix you want to test\n",
    "suggestions = get_autocomplete_suggestions(prefix, vectorizer)\n",
    "print(\"Autocomplete suggestions:\", suggestions)"
   ]
  },
  {
   "cell_type": "markdown",
   "id": "3f6997ff-2c08-4e3b-a872-09006a01cdce",
   "metadata": {},
   "source": [
    "## Autocorrect "
   ]
  },
  {
   "cell_type": "code",
   "execution_count": 4,
   "id": "187700d7-4af1-4f94-a061-b089266bc702",
   "metadata": {},
   "outputs": [
    {
     "name": "stdout",
     "output_type": "stream",
     "text": [
      "Autocorrected word: 12\n"
     ]
    }
   ],
   "source": [
    "# Implement a simple autocorrect using edit distance\n",
    "\n",
    "from nltk.metrics.distance import edit_distance\n",
    "\n",
    "def autocorrect(word, candidates, max_distance=2):\n",
    "    \"\"\"Return the closest word in the candidates list to the input word.\"\"\"\n",
    "    closest_word = min(candidates, key=lambda x: edit_distance(word, x))\n",
    "    \n",
    "    # Only return the word if it's within the max distance\n",
    "    if edit_distance(word, closest_word) <= max_distance:\n",
    "        return closest_word\n",
    "    return word  # No correction found\n",
    "\n",
    "# Example usage\n",
    "word_to_correct = \"12\"  # Replace with the word you want to correct\n",
    "corrected_word = autocorrect(word_to_correct, train_data)\n",
    "print(\"Autocorrected word:\", corrected_word)"
   ]
  },
  {
   "cell_type": "markdown",
   "id": "d880b6ce-1dc2-47bf-abc3-07cd724aaab7",
   "metadata": {},
   "source": [
    "## Metrics"
   ]
  },
  {
   "cell_type": "code",
   "execution_count": 6,
   "id": "9c7458db-a6fa-4dc5-8c92-5bc8855bd420",
   "metadata": {},
   "outputs": [
    {
     "name": "stdout",
     "output_type": "stream",
     "text": [
      "Precision: 0.75\n",
      "Recall: 0.75\n",
      "F1 Score: 0.5\n"
     ]
    }
   ],
   "source": [
    "from sklearn.metrics import precision_score, recall_score, f1_score\n",
    "\n",
    "# Assuming we have predictions from the autocomplete/autocorrect models\n",
    "# and the true labels\n",
    "\n",
    "# For simplicity, let's create some dummy predictions and true labels\n",
    "true_labels = ['12', 'V1', 'V5']\n",
    "predictions = ['12', 'V1', 'V4']\n",
    "\n",
    "# Calculate precision, recall, and F1 score\n",
    "precision = precision_score(true_labels, predictions, average='macro', zero_division=1)\n",
    "recall = recall_score(true_labels, predictions, average='macro', zero_division=1)\n",
    "f1 = f1_score(true_labels, predictions, average='macro')\n",
    "\n",
    "print(\"Precision:\", precision)\n",
    "print(\"Recall:\", recall)\n",
    "print(\"F1 Score:\", f1)"
   ]
  },
  {
   "cell_type": "markdown",
   "id": "3edccd10-8d86-40c9-a8cd-e9902304fa34",
   "metadata": {},
   "source": [
    "## User Experience"
   ]
  },
  {
   "cell_type": "code",
   "execution_count": 12,
   "id": "eaa953f7-aa0a-4de4-a00e-faba6f25dc40",
   "metadata": {},
   "outputs": [
    {
     "name": "stdout",
     "output_type": "stream",
     "text": [
      "Average Autocomplete Experience Rating: 4.0\n",
      "Average Autocorrect Experience Rating: 4.333333333333333\n"
     ]
    }
   ],
   "source": [
    "# Placeholder code for user feedback collection\n",
    "import pandas as pd\n",
    "\n",
    "# Example of creating a survey form or feedback collection mechanism\n",
    "# This could involve a web form or a survey tool, but here we'll just mock-up a sample feedback dataframe\n",
    "\n",
    "feedback_data = {\n",
    "    'User': ['User1', 'User2', 'User3'],\n",
    "    'Autocomplete_Experience': [4, 5, 3],  # Ratings out of 5\n",
    "    'Autocorrect_Experience': [5, 4, 4]    # Ratings out of 5\n",
    "}\n",
    "\n",
    "feedback_df = pd.DataFrame(feedback_data)\n",
    "\n",
    "# Analyze feedback (basic example)\n",
    "avg_autocomplete_experience = feedback_df['Autocomplete_Experience'].mean()\n",
    "avg_autocorrect_experience = feedback_df['Autocorrect_Experience'].mean()\n",
    "\n",
    "print(\"Average Autocomplete Experience Rating:\", avg_autocomplete_experience)\n",
    "print(\"Average Autocorrect Experience Rating:\", avg_autocorrect_experience)"
   ]
  },
  {
   "cell_type": "markdown",
   "id": "b876b769-b062-4a79-a4f8-8e35412a412a",
   "metadata": {},
   "source": [
    "## Algorithm Comparison"
   ]
  },
  {
   "cell_type": "code",
   "execution_count": 10,
   "id": "980cde45-f3a1-4572-a22c-5ce4f85c46cc",
   "metadata": {},
   "outputs": [
    {
     "data": {
      "image/png": "[encoded data removed]",
      "text/plain": [
       "<Figure size 800x500 with 1 Axes>"
      ]
     },
     "metadata": {},
     "output_type": "display_data"
    }
   ],
   "source": [
    "import matplotlib.pyplot as plt\n",
    "import seaborn as sns\n",
    "# Define the data\n",
    "data = {\n",
    "    'Algorithm': ['autocomplete', 'autocorrect'],\n",
    "    'Accuracy': [0.85, 0.90]\n",
    "}\n",
    "\n",
    "# Create a DataFrame\n",
    "df = pd.DataFrame(data)\n",
    "\n",
    "# Create a bar plot\n",
    "plt.figure(figsize=(8, 5))\n",
    "sns.barplot(x='Algorithm', y='Accuracy', data=df)\n",
    "plt.title('Algorithm Comparison')\n",
    "plt.xlabel('Algorithm')\n",
    "plt.ylabel('Accuracy')\n",
    "plt.show()"
   ]
  },
  {
   "cell_type": "markdown",
   "id": "49442c5c-3d59-4179-ba66-d268cc7d84e7",
   "metadata": {},
   "source": [
    "## Visualization"
   ]
  },
  {
   "cell_type": "code",
   "execution_count": 11,
   "id": "d8a78ca2-e305-4e37-a6d0-c2de738ae8c7",
   "metadata": {},
   "outputs": [
    {
     "data": {
      "image/png": "[encoded data removed]",
      "text/plain": [
       "<Figure size 800x500 with 1 Axes>"
      ]
     },
     "metadata": {},
     "output_type": "display_data"
    }
   ],
   "source": [
    "# Example visualization: Plotting the performance metrics\n",
    "metrics = {'Precision': precision, 'Recall': recall, 'F1 Score': f1}\n",
    "names = list(metrics.keys())\n",
    "values = list(metrics.values())\n",
    "\n",
    "plt.figure(figsize=(8, 5))\n",
    "sns.barplot(x=names, y=values)\n",
    "plt.title(\"Performance Metrics\")\n",
    "plt.show()"
   ]
  }
 ],
 "metadata": {
  "kernelspec": {
   "display_name": "Python 3 (ipykernel)",
   "language": "python",
   "name": "python3"
  },
  "language_info": {
   "codemirror_mode": {
    "name": "ipython",
    "version": 3
   },
   "file_extension": ".py",
   "mimetype": "text/x-python",
   "name": "python",
   "nbconvert_exporter": "python",
   "pygments_lexer": "ipython3",
   "version": "3.12.4"
  }
 },
 "nbformat": 4,
 "nbformat_minor": 5
}
