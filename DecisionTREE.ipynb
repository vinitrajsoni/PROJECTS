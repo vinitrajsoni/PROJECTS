{
 "cells": [
  {
   "cell_type": "code",
   "execution_count": 16,
   "metadata": {},
   "outputs": [],
   "source": [
    "import numpy as np\n",
    "import matplotlib.pyplot as mtp\n",
    "import pandas as pd"
   ]
  },
  {
   "cell_type": "code",
   "execution_count": 17,
   "metadata": {},
   "outputs": [
    {
     "data": {
      "text/html": [
       "<div>\n",
       "<style scoped>\n",
       "    .dataframe tbody tr th:only-of-type {\n",
       "        vertical-align: middle;\n",
       "    }\n",
       "\n",
       "    .dataframe tbody tr th {\n",
       "        vertical-align: top;\n",
       "    }\n",
       "\n",
       "    .dataframe thead th {\n",
       "        text-align: right;\n",
       "    }\n",
       "</style>\n",
       "<table border=\"1\" class=\"dataframe\">\n",
       "  <thead>\n",
       "    <tr style=\"text-align: right;\">\n",
       "      <th></th>\n",
       "      <th>Glucose</th>\n",
       "      <th>BloodPressure</th>\n",
       "      <th>SkinThickness</th>\n",
       "      <th>Insulin</th>\n",
       "      <th>BMI</th>\n",
       "      <th>DiabetesPedigreeFunction</th>\n",
       "      <th>Age</th>\n",
       "      <th>Outcome</th>\n",
       "    </tr>\n",
       "  </thead>\n",
       "  <tbody>\n",
       "    <tr>\n",
       "      <th>0</th>\n",
       "      <td>148</td>\n",
       "      <td>72</td>\n",
       "      <td>35</td>\n",
       "      <td>0</td>\n",
       "      <td>33.6</td>\n",
       "      <td>0.627</td>\n",
       "      <td>50</td>\n",
       "      <td>1</td>\n",
       "    </tr>\n",
       "    <tr>\n",
       "      <th>1</th>\n",
       "      <td>85</td>\n",
       "      <td>66</td>\n",
       "      <td>29</td>\n",
       "      <td>0</td>\n",
       "      <td>26.6</td>\n",
       "      <td>0.351</td>\n",
       "      <td>31</td>\n",
       "      <td>0</td>\n",
       "    </tr>\n",
       "    <tr>\n",
       "      <th>2</th>\n",
       "      <td>183</td>\n",
       "      <td>64</td>\n",
       "      <td>0</td>\n",
       "      <td>0</td>\n",
       "      <td>23.3</td>\n",
       "      <td>0.672</td>\n",
       "      <td>32</td>\n",
       "      <td>1</td>\n",
       "    </tr>\n",
       "    <tr>\n",
       "      <th>3</th>\n",
       "      <td>89</td>\n",
       "      <td>66</td>\n",
       "      <td>23</td>\n",
       "      <td>94</td>\n",
       "      <td>28.1</td>\n",
       "      <td>0.167</td>\n",
       "      <td>21</td>\n",
       "      <td>0</td>\n",
       "    </tr>\n",
       "    <tr>\n",
       "      <th>4</th>\n",
       "      <td>137</td>\n",
       "      <td>40</td>\n",
       "      <td>35</td>\n",
       "      <td>168</td>\n",
       "      <td>43.1</td>\n",
       "      <td>2.288</td>\n",
       "      <td>33</td>\n",
       "      <td>1</td>\n",
       "    </tr>\n",
       "    <tr>\n",
       "      <th>...</th>\n",
       "      <td>...</td>\n",
       "      <td>...</td>\n",
       "      <td>...</td>\n",
       "      <td>...</td>\n",
       "      <td>...</td>\n",
       "      <td>...</td>\n",
       "      <td>...</td>\n",
       "      <td>...</td>\n",
       "    </tr>\n",
       "    <tr>\n",
       "      <th>763</th>\n",
       "      <td>101</td>\n",
       "      <td>76</td>\n",
       "      <td>48</td>\n",
       "      <td>180</td>\n",
       "      <td>32.9</td>\n",
       "      <td>0.171</td>\n",
       "      <td>63</td>\n",
       "      <td>0</td>\n",
       "    </tr>\n",
       "    <tr>\n",
       "      <th>764</th>\n",
       "      <td>122</td>\n",
       "      <td>70</td>\n",
       "      <td>27</td>\n",
       "      <td>0</td>\n",
       "      <td>36.8</td>\n",
       "      <td>0.340</td>\n",
       "      <td>27</td>\n",
       "      <td>0</td>\n",
       "    </tr>\n",
       "    <tr>\n",
       "      <th>765</th>\n",
       "      <td>121</td>\n",
       "      <td>72</td>\n",
       "      <td>23</td>\n",
       "      <td>112</td>\n",
       "      <td>26.2</td>\n",
       "      <td>0.245</td>\n",
       "      <td>30</td>\n",
       "      <td>0</td>\n",
       "    </tr>\n",
       "    <tr>\n",
       "      <th>766</th>\n",
       "      <td>126</td>\n",
       "      <td>60</td>\n",
       "      <td>0</td>\n",
       "      <td>0</td>\n",
       "      <td>30.1</td>\n",
       "      <td>0.349</td>\n",
       "      <td>47</td>\n",
       "      <td>1</td>\n",
       "    </tr>\n",
       "    <tr>\n",
       "      <th>767</th>\n",
       "      <td>93</td>\n",
       "      <td>70</td>\n",
       "      <td>31</td>\n",
       "      <td>0</td>\n",
       "      <td>30.4</td>\n",
       "      <td>0.315</td>\n",
       "      <td>23</td>\n",
       "      <td>0</td>\n",
       "    </tr>\n",
       "  </tbody>\n",
       "</table>\n",
       "<p>768 rows × 8 columns</p>\n",
       "</div>"
      ],
      "text/plain": [
       "     Glucose  BloodPressure  SkinThickness  Insulin   BMI  \\\n",
       "0        148             72             35        0  33.6   \n",
       "1         85             66             29        0  26.6   \n",
       "2        183             64              0        0  23.3   \n",
       "3         89             66             23       94  28.1   \n",
       "4        137             40             35      168  43.1   \n",
       "..       ...            ...            ...      ...   ...   \n",
       "763      101             76             48      180  32.9   \n",
       "764      122             70             27        0  36.8   \n",
       "765      121             72             23      112  26.2   \n",
       "766      126             60              0        0  30.1   \n",
       "767       93             70             31        0  30.4   \n",
       "\n",
       "     DiabetesPedigreeFunction  Age  Outcome  \n",
       "0                       0.627   50        1  \n",
       "1                       0.351   31        0  \n",
       "2                       0.672   32        1  \n",
       "3                       0.167   21        0  \n",
       "4                       2.288   33        1  \n",
       "..                        ...  ...      ...  \n",
       "763                     0.171   63        0  \n",
       "764                     0.340   27        0  \n",
       "765                     0.245   30        0  \n",
       "766                     0.349   47        1  \n",
       "767                     0.315   23        0  \n",
       "\n",
       "[768 rows x 8 columns]"
      ]
     },
     "execution_count": 17,
     "metadata": {},
     "output_type": "execute_result"
    }
   ],
   "source": [
    "data_set = pd.read_csv('diabetes.csv')\n",
    "data_set"
   ]
  },
  {
   "cell_type": "code",
   "execution_count": 18,
   "metadata": {},
   "outputs": [
    {
     "data": {
      "text/plain": [
       "array([[148,  72],\n",
       "       [ 85,  66],\n",
       "       [183,  64],\n",
       "       ...,\n",
       "       [121,  72],\n",
       "       [126,  60],\n",
       "       [ 93,  70]], dtype=int64)"
      ]
     },
     "execution_count": 18,
     "metadata": {},
     "output_type": "execute_result"
    }
   ],
   "source": [
    "x= data_set.iloc[:,[0,1]].values\n",
    "y= data_set.iloc[:,7].values\n",
    "x"
   ]
  },
  {
   "cell_type": "code",
   "execution_count": 19,
   "metadata": {},
   "outputs": [
    {
     "data": {
      "text/plain": [
       "array([1, 0, 1, 0, 1, 0, 1, 0, 1, 1, 0, 1, 0, 1, 1, 1, 1, 1, 0, 1, 0, 0,\n",
       "       1, 1, 1, 1, 1, 0, 0, 0, 0, 1, 0, 0, 0, 0, 0, 1, 1, 1, 0, 0, 0, 1,\n",
       "       0, 1, 0, 0, 1, 0, 0, 0, 0, 1, 0, 0, 1, 0, 0, 0, 0, 1, 0, 0, 1, 0,\n",
       "       1, 0, 0, 0, 1, 0, 1, 0, 0, 0, 0, 0, 1, 0, 0, 0, 0, 0, 1, 0, 0, 0,\n",
       "       1, 0, 0, 0, 0, 1, 0, 0, 0, 0, 0, 1, 1, 0, 0, 0, 0, 0, 0, 0, 0, 1,\n",
       "       1, 1, 0, 0, 1, 1, 1, 0, 0, 0, 1, 0, 0, 0, 1, 1, 0, 0, 1, 1, 1, 1,\n",
       "       1, 0, 0, 0, 0, 0, 0, 0, 0, 0, 0, 1, 0, 0, 0, 0, 0, 0, 0, 0, 1, 0,\n",
       "       1, 1, 0, 0, 0, 1, 0, 0, 0, 0, 1, 1, 0, 0, 0, 0, 1, 1, 0, 0, 0, 1,\n",
       "       0, 1, 0, 1, 0, 0, 0, 0, 0, 1, 1, 1, 1, 1, 0, 0, 1, 1, 0, 1, 0, 1,\n",
       "       1, 1, 0, 0, 0, 0, 0, 0, 1, 1, 0, 1, 0, 0, 0, 1, 1, 1, 1, 0, 1, 1,\n",
       "       1, 1, 0, 0, 0, 0, 0, 1, 0, 0, 1, 1, 0, 0, 0, 1, 1, 1, 1, 0, 0, 0,\n",
       "       1, 1, 0, 1, 0, 0, 0, 0, 0, 0, 0, 0, 1, 1, 0, 0, 0, 1, 0, 1, 0, 0,\n",
       "       1, 0, 1, 0, 0, 1, 1, 0, 0, 0, 0, 0, 1, 0, 0, 0, 1, 0, 0, 1, 1, 0,\n",
       "       0, 1, 0, 0, 0, 1, 1, 1, 0, 0, 1, 0, 1, 0, 1, 1, 0, 1, 0, 0, 1, 0,\n",
       "       1, 1, 0, 0, 1, 0, 1, 0, 0, 1, 0, 1, 0, 1, 1, 1, 0, 0, 1, 0, 1, 0,\n",
       "       0, 0, 1, 0, 0, 0, 0, 1, 1, 1, 0, 0, 0, 0, 0, 0, 0, 0, 0, 1, 0, 0,\n",
       "       0, 0, 0, 1, 1, 1, 0, 1, 1, 0, 0, 1, 0, 0, 1, 0, 0, 1, 1, 0, 0, 0,\n",
       "       0, 1, 0, 0, 1, 0, 0, 0, 0, 0, 0, 0, 1, 1, 1, 0, 0, 1, 0, 0, 1, 0,\n",
       "       0, 1, 0, 1, 1, 0, 1, 0, 1, 0, 1, 0, 1, 1, 0, 0, 0, 0, 1, 1, 0, 1,\n",
       "       0, 1, 0, 0, 0, 0, 1, 1, 0, 1, 0, 1, 0, 0, 0, 0, 0, 1, 0, 0, 0, 0,\n",
       "       1, 0, 0, 1, 1, 1, 0, 0, 1, 0, 0, 1, 0, 0, 0, 1, 0, 0, 1, 0, 0, 0,\n",
       "       0, 0, 0, 0, 0, 0, 1, 0, 0, 0, 0, 0, 0, 0, 1, 0, 0, 0, 1, 0, 0, 0,\n",
       "       1, 1, 0, 0, 0, 0, 0, 0, 0, 1, 0, 0, 0, 0, 1, 0, 0, 0, 1, 0, 0, 0,\n",
       "       1, 0, 0, 0, 1, 0, 0, 0, 0, 1, 1, 0, 0, 0, 0, 0, 0, 1, 0, 0, 0, 0,\n",
       "       0, 0, 0, 0, 0, 0, 0, 1, 0, 0, 0, 1, 1, 1, 1, 0, 0, 1, 1, 0, 0, 0,\n",
       "       0, 0, 0, 0, 0, 0, 0, 0, 0, 0, 1, 1, 0, 0, 0, 0, 0, 0, 0, 1, 0, 0,\n",
       "       0, 0, 0, 0, 0, 1, 0, 1, 1, 0, 0, 0, 1, 0, 1, 0, 1, 0, 1, 0, 1, 0,\n",
       "       0, 1, 0, 0, 1, 0, 0, 0, 0, 1, 1, 0, 1, 0, 0, 0, 0, 1, 1, 0, 1, 0,\n",
       "       0, 0, 1, 1, 0, 0, 0, 0, 0, 0, 0, 0, 0, 0, 1, 0, 0, 0, 0, 1, 0, 0,\n",
       "       1, 0, 0, 0, 1, 0, 0, 0, 1, 1, 1, 0, 0, 0, 0, 0, 0, 1, 0, 0, 0, 1,\n",
       "       0, 1, 1, 1, 1, 0, 1, 1, 0, 0, 0, 0, 0, 0, 0, 1, 1, 0, 1, 0, 0, 1,\n",
       "       0, 1, 0, 0, 0, 0, 0, 1, 0, 1, 0, 1, 0, 1, 1, 0, 0, 0, 0, 1, 1, 0,\n",
       "       0, 0, 1, 0, 1, 1, 0, 0, 1, 0, 0, 1, 1, 0, 0, 1, 0, 0, 1, 0, 0, 0,\n",
       "       0, 0, 0, 0, 1, 1, 1, 0, 0, 0, 0, 0, 0, 1, 1, 0, 0, 1, 0, 0, 1, 0,\n",
       "       1, 1, 1, 0, 0, 1, 1, 1, 0, 1, 0, 1, 0, 1, 0, 0, 0, 0, 1, 0],\n",
       "      dtype=int64)"
      ]
     },
     "execution_count": 19,
     "metadata": {},
     "output_type": "execute_result"
    }
   ],
   "source": [
    "y"
   ]
  },
  {
   "cell_type": "code",
   "execution_count": 20,
   "metadata": {},
   "outputs": [],
   "source": [
    "from sklearn.model_selection import train_test_split\n",
    "x_train, x_test, y_train, y_test= train_test_split(x,y,test_size=0.25,random_state=0)"
   ]
  },
  {
   "cell_type": "code",
   "execution_count": 21,
   "metadata": {},
   "outputs": [
    {
     "data": {
      "text/plain": [
       "(array([[-1.01521454, -0.40451932],\n",
       "        [-0.09964691, -0.61509602],\n",
       "        [-0.95207195,  0.54307587],\n",
       "        ...,\n",
       "        [-0.85735805, -0.24658679],\n",
       "        [-1.14149973,  0.2272108 ],\n",
       "        [ 0.46863645,  0.64836422]]),\n",
       " array([[ 2.4576282 ,  0.33249916],\n",
       "        [-0.44693118,  0.2272108 ],\n",
       "        [-1.42564141, -0.40451932],\n",
       "        [ 1.41577538,  0.12192245],\n",
       "        [-0.32064599, -0.24658679],\n",
       "        [-1.26778492,  0.12192245],\n",
       "        [ 0.97377721,  0.43778751],\n",
       "        [ 1.73148836,  0.85894093],\n",
       "        [ 0.18449477, -0.61509602],\n",
       "        [-0.57321637,  0.12192245],\n",
       "        [ 1.163205  ,  0.33249916],\n",
       "        [ 2.07877263,  0.33249916],\n",
       "        [-0.2259321 ,  0.2272108 ],\n",
       "        [-1.23621362, -0.93096108],\n",
       "        [-1.77292569,  0.12192245],\n",
       "        [-0.41535989, -0.08865426],\n",
       "        [ 1.82620225,  0.12192245],\n",
       "        [-1.5203553 , -1.03624944],\n",
       "        [ 0.34235126,  0.85894093],\n",
       "        [-0.69950156, -0.82567273],\n",
       "        [ 0.72120683,  0.64836422],\n",
       "        [-0.09964691,  0.54307587],\n",
       "        [-1.07835714, -3.66845828],\n",
       "        [-1.89921088,  0.64836422],\n",
       "        [-0.76264416, -0.19394261],\n",
       "        [ 0.08978088, -0.50980767],\n",
       "        [-0.54164508,  0.33249916],\n",
       "        [ 1.00534851,  0.96422928],\n",
       "        [-0.28907469, -0.19394261],\n",
       "        [-0.35221729, -0.08865426],\n",
       "        [ 0.46863645,  0.2272108 ],\n",
       "        [-0.60478767, -0.29923096],\n",
       "        [-0.60478767,  0.85894093],\n",
       "        [ 0.02663828, -0.93096108],\n",
       "        [-0.06807561, -0.82567273],\n",
       "        [ 1.47891798, -0.29923096],\n",
       "        [ 0.46863645,  0.75365257],\n",
       "        [-0.13121821,  1.06951763],\n",
       "        [-0.06807561, -1.3521145 ],\n",
       "        [ 1.85777355, -0.29923096],\n",
       "        [-0.06807561, -0.29923096],\n",
       "        [-0.98364324,  0.43778751],\n",
       "        [-0.69950156, -0.50980767],\n",
       "        [ 2.26820042,  0.0166341 ],\n",
       "        [ 2.39448561,  0.0166341 ],\n",
       "        [-0.60478767,  0.27985498],\n",
       "        [-0.41535989, -0.40451932],\n",
       "        [ 0.24763737, -0.29923096],\n",
       "        [-0.38378859, -0.29923096],\n",
       "        [ 0.12135218,  0.54307587],\n",
       "        [ 0.37392256, -0.08865426],\n",
       "        [-0.41535989, -0.93096108],\n",
       "        [ 0.94220592,  0.0166341 ],\n",
       "        [ 0.50020775,  1.06951763],\n",
       "        [-0.95207195, -0.08865426],\n",
       "        [-3.82506003, -1.14153779],\n",
       "        [-1.14149973, -0.19394261],\n",
       "        [-0.1943608 ,  1.49067105],\n",
       "        [ 0.40549385,  0.0166341 ],\n",
       "        [-0.1943608 , -3.66845828],\n",
       "        [ 1.44734668,  1.91182446],\n",
       "        [ 0.81592072,  0.2272108 ],\n",
       "        [ 0.12135218, -0.08865426],\n",
       "        [ 0.53177905, -3.66845828],\n",
       "        [ 1.92091614,  0.2272108 ],\n",
       "        [ 2.39448561,  0.2272108 ],\n",
       "        [ 1.38420408,  0.96422928],\n",
       "        [ 0.02663828,  0.43778751],\n",
       "        [-0.47850248, -0.93096108],\n",
       "        [-1.5519266 ,  0.43778751],\n",
       "        [-0.41535989, -0.29923096],\n",
       "        [-0.06807561, -3.66845828],\n",
       "        [-1.10992843, -0.08865426],\n",
       "        [ 1.95248744,  1.28009434],\n",
       "        [ 1.57363187,  0.12192245],\n",
       "        [ 0.50020775,  0.75365257],\n",
       "        [-1.67821179,  1.91182446],\n",
       "        [ 1.03691981,  0.2272108 ],\n",
       "        [-1.20464233,  0.85894093],\n",
       "        [-0.76264416,  0.0166341 ],\n",
       "        [-0.66793027,  0.33249916],\n",
       "        [ 0.46863645,  0.2272108 ],\n",
       "        [-0.35221729,  0.2272108 ],\n",
       "        [-0.76264416, -0.29923096],\n",
       "        [-0.82578675, -0.50980767],\n",
       "        [-0.92050065,  0.54307587],\n",
       "        [ 0.56335034, -0.82567273],\n",
       "        [-0.57321637, -2.08913297],\n",
       "        [ 1.88934485,  0.75365257],\n",
       "        [-0.85735805,  0.0166341 ],\n",
       "        [ 0.08978088,  0.2272108 ],\n",
       "        [ 0.24763737,  0.75365257],\n",
       "        [-0.2575034 , -1.03624944],\n",
       "        [-0.57321637,  0.54307587],\n",
       "        [ 1.35263278,  0.64836422],\n",
       "        [-0.32064599, -0.61509602],\n",
       "        [-0.76264416,  0.33249916],\n",
       "        [ 0.97377721,  0.64836422],\n",
       "        [-0.32064599,  0.12192245],\n",
       "        [-0.1943608 ,  0.12192245],\n",
       "        [-0.2259321 ,  0.54307587],\n",
       "        [-0.69950156, -0.93096108],\n",
       "        [-0.35221729,  1.17480599],\n",
       "        [-0.82578675, -0.19394261],\n",
       "        [ 0.21606607, -0.29923096],\n",
       "        [-0.41535989,  0.0166341 ],\n",
       "        [ 0.15292347,  0.85894093],\n",
       "        [ 0.50020775,  0.0166341 ],\n",
       "        [-0.69950156,  0.54307587],\n",
       "        [ 1.95248744, -0.29923096],\n",
       "        [-1.04678584, -0.61509602],\n",
       "        [-0.28907469,  0.64836422],\n",
       "        [ 0.68963553, -0.19394261],\n",
       "        [ 0.21606607,  1.49067105],\n",
       "        [ 1.63677446,  0.75365257],\n",
       "        [ 1.25791889,  0.85894093],\n",
       "        [-0.41535989, -0.40451932],\n",
       "        [ 2.26820042, -1.03624944],\n",
       "        [-0.32064599,  0.85894093],\n",
       "        [-0.03650431,  0.54307587],\n",
       "        [-0.28907469,  0.43778751],\n",
       "        [-0.57321637,  2.01711282],\n",
       "        [-0.1943608 , -0.19394261],\n",
       "        [-0.00493302,  0.43778751],\n",
       "        [ 0.68963553,  0.2272108 ],\n",
       "        [-0.98364324, -0.50980767],\n",
       "        [ 0.18449477,  0.96422928],\n",
       "        [-0.1627895 ,  0.2272108 ],\n",
       "        [ 0.43706515, -0.82567273],\n",
       "        [ 1.69991706,  0.96422928],\n",
       "        [ 0.56335034, -0.29923096],\n",
       "        [-0.51007378, -3.66845828],\n",
       "        [-1.26778492, -0.50980767],\n",
       "        [ 1.60520317, -0.08865426],\n",
       "        [-0.85735805, -0.29923096],\n",
       "        [-0.60478767,  0.33249916],\n",
       "        [-0.44693118, -1.03624944],\n",
       "        [-0.57321637, -0.19394261],\n",
       "        [ 0.62649294, -3.66845828],\n",
       "        [-0.03650431, -0.82567273],\n",
       "        [-1.07835714, -0.61509602],\n",
       "        [ 1.03691981,  0.12192245],\n",
       "        [-0.51007378, -0.61509602],\n",
       "        [-1.86763958,  0.43778751],\n",
       "        [-0.2259321 , -0.19394261],\n",
       "        [-0.69950156, -0.61509602],\n",
       "        [-1.04678584, -0.19394261],\n",
       "        [-1.29935622, -0.19394261],\n",
       "        [-0.76264416, -0.08865426],\n",
       "        [-0.51007378,  0.54307587],\n",
       "        [-1.14149973, -0.61509602],\n",
       "        [ 0.65806424,  0.85894093],\n",
       "        [-0.1627895 ,  0.2272108 ],\n",
       "        [-0.44693118,  0.12192245],\n",
       "        [ 0.91063462,  0.43778751],\n",
       "        [-0.76264416, -0.50980767],\n",
       "        [ 1.38420408,  1.06951763],\n",
       "        [-0.38378859, -0.72038438],\n",
       "        [-0.03650431, -3.66845828],\n",
       "        [ 0.43706515, -3.66845828],\n",
       "        [ 1.25791889, -0.08865426],\n",
       "        [ 2.29977172,  0.43778751],\n",
       "        [-1.5834979 , -1.14153779],\n",
       "        [ 0.02663828, -0.50980767],\n",
       "        [ 1.82620225,  0.0166341 ],\n",
       "        [-0.06807561, -3.66845828],\n",
       "        [-1.42564141, -0.50980767],\n",
       "        [-0.32064599, -0.50980767],\n",
       "        [ 0.12135218, -0.61509602],\n",
       "        [-0.51007378,  1.06951763],\n",
       "        [-1.01521454, -2.40499803],\n",
       "        [-1.48878401,  0.0166341 ],\n",
       "        [-0.44693118,  0.2272108 ],\n",
       "        [-0.60478767,  0.2272108 ],\n",
       "        [ 0.65806424,  0.54307587],\n",
       "        [-0.95207195,  0.0166341 ],\n",
       "        [-0.82578675,  0.12192245],\n",
       "        [-1.39407011,  0.64836422],\n",
       "        [-0.35221729,  0.33249916],\n",
       "        [-0.95207195, -0.29923096],\n",
       "        [-0.60478767,  0.64836422],\n",
       "        [ 1.163205  ,  2.33297788],\n",
       "        [-1.20464233, -0.24658679],\n",
       "        [ 1.85777355, -0.19394261],\n",
       "        [ 0.46863645,  0.0166341 ],\n",
       "        [-2.43592294, -0.40451932],\n",
       "        [ 0.31077996, -3.66845828],\n",
       "        [ 0.08978088,  0.12192245],\n",
       "        [ 0.72120683, -0.61509602],\n",
       "        [-0.38378859, -0.50980767],\n",
       "        [ 0.21606607,  0.43778751],\n",
       "        [-1.04678584,  0.43778751]]))"
      ]
     },
     "execution_count": 21,
     "metadata": {},
     "output_type": "execute_result"
    }
   ],
   "source": [
    "from sklearn.preprocessing import StandardScaler\n",
    "st_x= StandardScaler()\n",
    "x_train= st_x.fit_transform(x_train)\n",
    "x_test= st_x.transform(x_test)\n",
    "x_train,x_test"
   ]
  },
  {
   "cell_type": "code",
   "execution_count": 22,
   "metadata": {},
   "outputs": [
    {
     "data": {
      "text/html": [
       "<style>#sk-container-id-2 {color: black;background-color: white;}#sk-container-id-2 pre{padding: 0;}#sk-container-id-2 div.sk-toggleable {background-color: white;}#sk-container-id-2 label.sk-toggleable__label {cursor: pointer;display: block;width: 100%;margin-bottom: 0;padding: 0.3em;box-sizing: border-box;text-align: center;}#sk-container-id-2 label.sk-toggleable__label-arrow:before {content: \"▸\";float: left;margin-right: 0.25em;color: #696969;}#sk-container-id-2 label.sk-toggleable__label-arrow:hover:before {color: black;}#sk-container-id-2 div.sk-estimator:hover label.sk-toggleable__label-arrow:before {color: black;}#sk-container-id-2 div.sk-toggleable__content {max-height: 0;max-width: 0;overflow: hidden;text-align: left;background-color: #f0f8ff;}#sk-container-id-2 div.sk-toggleable__content pre {margin: 0.2em;color: black;border-radius: 0.25em;background-color: #f0f8ff;}#sk-container-id-2 input.sk-toggleable__control:checked~div.sk-toggleable__content {max-height: 200px;max-width: 100%;overflow: auto;}#sk-container-id-2 input.sk-toggleable__control:checked~label.sk-toggleable__label-arrow:before {content: \"▾\";}#sk-container-id-2 div.sk-estimator input.sk-toggleable__control:checked~label.sk-toggleable__label {background-color: #d4ebff;}#sk-container-id-2 div.sk-label input.sk-toggleable__control:checked~label.sk-toggleable__label {background-color: #d4ebff;}#sk-container-id-2 input.sk-hidden--visually {border: 0;clip: rect(1px 1px 1px 1px);clip: rect(1px, 1px, 1px, 1px);height: 1px;margin: -1px;overflow: hidden;padding: 0;position: absolute;width: 1px;}#sk-container-id-2 div.sk-estimator {font-family: monospace;background-color: #f0f8ff;border: 1px dotted black;border-radius: 0.25em;box-sizing: border-box;margin-bottom: 0.5em;}#sk-container-id-2 div.sk-estimator:hover {background-color: #d4ebff;}#sk-container-id-2 div.sk-parallel-item::after {content: \"\";width: 100%;border-bottom: 1px solid gray;flex-grow: 1;}#sk-container-id-2 div.sk-label:hover label.sk-toggleable__label {background-color: #d4ebff;}#sk-container-id-2 div.sk-serial::before {content: \"\";position: absolute;border-left: 1px solid gray;box-sizing: border-box;top: 0;bottom: 0;left: 50%;z-index: 0;}#sk-container-id-2 div.sk-serial {display: flex;flex-direction: column;align-items: center;background-color: white;padding-right: 0.2em;padding-left: 0.2em;position: relative;}#sk-container-id-2 div.sk-item {position: relative;z-index: 1;}#sk-container-id-2 div.sk-parallel {display: flex;align-items: stretch;justify-content: center;background-color: white;position: relative;}#sk-container-id-2 div.sk-item::before, #sk-container-id-2 div.sk-parallel-item::before {content: \"\";position: absolute;border-left: 1px solid gray;box-sizing: border-box;top: 0;bottom: 0;left: 50%;z-index: -1;}#sk-container-id-2 div.sk-parallel-item {display: flex;flex-direction: column;z-index: 1;position: relative;background-color: white;}#sk-container-id-2 div.sk-parallel-item:first-child::after {align-self: flex-end;width: 50%;}#sk-container-id-2 div.sk-parallel-item:last-child::after {align-self: flex-start;width: 50%;}#sk-container-id-2 div.sk-parallel-item:only-child::after {width: 0;}#sk-container-id-2 div.sk-dashed-wrapped {border: 1px dashed gray;margin: 0 0.4em 0.5em 0.4em;box-sizing: border-box;padding-bottom: 0.4em;background-color: white;}#sk-container-id-2 div.sk-label label {font-family: monospace;font-weight: bold;display: inline-block;line-height: 1.2em;}#sk-container-id-2 div.sk-label-container {text-align: center;}#sk-container-id-2 div.sk-container {/* jupyter's `normalize.less` sets `[hidden] { display: none; }` but bootstrap.min.css set `[hidden] { display: none !important; }` so we also need the `!important` here to be able to override the default hidden behavior on the sphinx rendered scikit-learn.org. See: https://github.com/scikit-learn/scikit-learn/issues/21755 */display: inline-block !important;position: relative;}#sk-container-id-2 div.sk-text-repr-fallback {display: none;}</style><div id=\"sk-container-id-2\" class=\"sk-top-container\"><div class=\"sk-text-repr-fallback\"><pre>DecisionTreeClassifier(criterion=&#x27;entropy&#x27;, random_state=0)</pre><b>In a Jupyter environment, please rerun this cell to show the HTML representation or trust the notebook. <br />On GitHub, the HTML representation is unable to render, please try loading this page with nbviewer.org.</b></div><div class=\"sk-container\" hidden><div class=\"sk-item\"><div class=\"sk-estimator sk-toggleable\"><input class=\"sk-toggleable__control sk-hidden--visually\" id=\"sk-estimator-id-2\" type=\"checkbox\" checked><label for=\"sk-estimator-id-2\" class=\"sk-toggleable__label sk-toggleable__label-arrow\">DecisionTreeClassifier</label><div class=\"sk-toggleable__content\"><pre>DecisionTreeClassifier(criterion=&#x27;entropy&#x27;, random_state=0)</pre></div></div></div></div></div>"
      ],
      "text/plain": [
       "DecisionTreeClassifier(criterion='entropy', random_state=0)"
      ]
     },
     "execution_count": 22,
     "metadata": {},
     "output_type": "execute_result"
    }
   ],
   "source": [
    "from sklearn.tree import DecisionTreeClassifier\n",
    "classifier= DecisionTreeClassifier(criterion='entropy',random_state=0)\n",
    "classifier.fit(x_train,y_train)"
   ]
  },
  {
   "cell_type": "code",
   "execution_count": 23,
   "metadata": {},
   "outputs": [
    {
     "data": {
      "text/plain": [
       "array([[105,  25],\n",
       "       [ 28,  34]], dtype=int64)"
      ]
     },
     "execution_count": 23,
     "metadata": {},
     "output_type": "execute_result"
    }
   ],
   "source": [
    "y_pred= classifier.predict(x_test)\n",
    "from sklearn.metrics import confusion_matrix\n",
    "cm= confusion_matrix(y_test,y_pred)\n",
    "cm"
   ]
  },
  {
   "cell_type": "code",
   "execution_count": 24,
   "metadata": {},
   "outputs": [
    {
     "name": "stderr",
     "output_type": "stream",
     "text": [
      "*c* argument looks like a single numeric RGB or RGBA sequence, which should be avoided as value-mapping will have precedence in case its length matches with *x* & *y*.  Please use the *color* keyword-argument or provide a 2D array with a single row if you intend to specify the same RGB or RGBA value for all points.\n",
      "*c* argument looks like a single numeric RGB or RGBA sequence, which should be avoided as value-mapping will have precedence in case its length matches with *x* & *y*.  Please use the *color* keyword-argument or provide a 2D array with a single row if you intend to specify the same RGB or RGBA value for all points.\n"
     ]
    },
    {
     "name": "stdout",
     "output_type": "stream",
     "text": [
      "<enumerate object at 0x000001C72753E430>\n"
     ]
    },
    {
     "data": {
      "image/png": "[encoded data removed]",
      "text/plain": [
       "<Figure size 640x480 with 1 Axes>"
      ]
     },
     "metadata": {},
     "output_type": "display_data"
    }
   ],
   "source": [
    "from matplotlib.colors import ListedColormap\n",
    "x_set, y_set = x_train, y_train\n",
    "x1, x2 = np.meshgrid(np.arange(start = x_set[:,0].min() - 1,stop = x_set[:,0].max() + 1,step = 0.01),\n",
    "                     np.arange(start = x_set[:,1].min() - 1,stop = x_set[:,1].max() + 1,step = 0.01))\n",
    "mtp.contourf(x1,x2,classifier.predict(np.array([x1.ravel(),x2.ravel()]).T).reshape(x1.shape),\n",
    "            alpha = 0.75,cmap = ListedColormap(('yellow','green')))\n",
    "mtp.xlim(x1.min(), x1.max())\n",
    "mtp.ylim(x2.min(), x2.max())\n",
    "print(enumerate(np.unique(y_set)))\n",
    "for i, j in enumerate(np.unique(y_set)):\n",
    "    mtp.scatter(x_set[y_set == j, 0],x_set[y_set == j, 1],\n",
    "                c= ListedColormap(('blue','green'))(i),label = j)\n",
    "mtp.title('decision tree algorithm')\n",
    "mtp.xlabel('x-axis')\n",
    "mtp.ylabel('y-axis')\n",
    "mtp.legend()\n",
    "mtp.show()"
   ]
  },
  {
   "cell_type": "code",
   "execution_count": 25,
   "metadata": {},
   "outputs": [
    {
     "name": "stderr",
     "output_type": "stream",
     "text": [
      "*c* argument looks like a single numeric RGB or RGBA sequence, which should be avoided as value-mapping will have precedence in case its length matches with *x* & *y*.  Please use the *color* keyword-argument or provide a 2D array with a single row if you intend to specify the same RGB or RGBA value for all points.\n",
      "*c* argument looks like a single numeric RGB or RGBA sequence, which should be avoided as value-mapping will have precedence in case its length matches with *x* & *y*.  Please use the *color* keyword-argument or provide a 2D array with a single row if you intend to specify the same RGB or RGBA value for all points.\n"
     ]
    },
    {
     "data": {
      "image/png": "[encoded data removed]",
      "text/plain": [
       "<Figure size 640x480 with 1 Axes>"
      ]
     },
     "metadata": {},
     "output_type": "display_data"
    }
   ],
   "source": [
    "from matplotlib.colors import ListedColormap\n",
    "x_set, y_set = x_train, y_train\n",
    "x1, x2 = np.meshgrid(np.arange(start = x_set[:,0].min() - 1,stop = x_set[:,0].max() + 1,step = 0.01),\n",
    "                     np.arange(start = x_set[:,1].min() - 1,stop = x_set[:,1].max() + 1,step = 0.01))\n",
    "mtp.contour(x1,x2,classifier.predict(np.array([x1.ravel(),x2.ravel()]).T).reshape(x1.shape),\n",
    "            alpha = 0.75,cmap = ListedColormap(('yellow','green')))\n",
    "mtp.xlim(x1.min(), x1.max())\n",
    "mtp.ylim(x2.min(), x2.max())\n",
    "for i, j in enumerate(np.unique(y_set)):\n",
    "    mtp.scatter(x_set[y_set == j, 0],x_set[y_set == j, 1],\n",
    "                c= ListedColormap(('blue','green'))(i),label = j)\n",
    "mtp.title('decision tree algorithm')\n",
    "mtp.xlabel('x-axis')\n",
    "mtp.ylabel('y-axis')\n",
    "mtp.legend()\n",
    "mtp.show()"
   ]
  },
  {
   "cell_type": "code",
   "execution_count": 26,
   "metadata": {},
   "outputs": [
    {
     "name": "stdout",
     "output_type": "stream",
     "text": [
      "the accuracy is as follows\n"
     ]
    },
    {
     "data": {
      "text/plain": [
       "0.5483870967741935"
      ]
     },
     "execution_count": 26,
     "metadata": {},
     "output_type": "execute_result"
    }
   ],
   "source": [
    "print('the accuracy is as follows')\n",
    "from sklearn.metrics import recall_score\n",
    "recall_score(y_test, y_pred)\n"
   ]
  },
  {
   "cell_type": "code",
   "execution_count": 27,
   "metadata": {},
   "outputs": [
    {
     "name": "stdout",
     "output_type": "stream",
     "text": [
      "persentage accuracy :  54.83870967741935 %\n"
     ]
    }
   ],
   "source": [
    "print('persentage accuracy : ',recall_score(y_test, y_pred)*100,'%')"
   ]
  }
 ],
 "metadata": {
  "kernelspec": {
   "display_name": "Python 3",
   "language": "python",
   "name": "python3"
  },
  "language_info": {
   "codemirror_mode": {
    "name": "ipython",
    "version": 3
   },
   "file_extension": ".py",
   "mimetype": "text/x-python",
   "name": "python",
   "nbconvert_exporter": "python",
   "pygments_lexer": "ipython3",
   "version": "3.11.1"
  },
  "orig_nbformat": 4
 },
 "nbformat": 4,
 "nbformat_minor": 2
}
